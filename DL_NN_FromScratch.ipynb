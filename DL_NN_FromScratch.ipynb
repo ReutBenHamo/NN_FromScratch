{
  "nbformat": 4,
  "nbformat_minor": 0,
  "metadata": {
    "colab": {
      "provenance": []
    },
    "kernelspec": {
      "name": "python3",
      "display_name": "Python 3"
    },
    "language_info": {
      "name": "python"
    }
  },
  "cells": [
    {
      "cell_type": "markdown",
      "source": [
        "preperations"
      ],
      "metadata": {
        "id": "qejUh91Al6QZ"
      }
    },
    {
      "cell_type": "code",
      "source": [
        "import numpy as np\n",
        "import copy\n",
        "from keras.datasets import mnist\n",
        "from sklearn.model_selection import train_test_split"
      ],
      "metadata": {
        "id": "UsAw3ByhmCcm"
      },
      "execution_count": null,
      "outputs": []
    },
    {
      "cell_type": "markdown",
      "source": [
        "### Q1"
      ],
      "metadata": {
        "id": "fgoqRlpKlCB9"
      }
    },
    {
      "cell_type": "markdown",
      "source": [
        "a"
      ],
      "metadata": {
        "id": "062uuQJmlKKE"
      }
    },
    {
      "cell_type": "code",
      "source": [
        "def initialize_parameters(layer_dims):\n",
        "    '''\n",
        "    input: an array of the dimensions of each layer in the network (layer 0 is the size of the flattened input, layer L is the output softmax)\n",
        "\n",
        "    output: a dictionary containing the initialized W and b parameters of each layer (W1…WL, b1…bL).\n",
        "    '''\n",
        "    params = {'W':[], 'b':[]}\n",
        "    scale_param = 0.5  # in order to not get too large random values\n",
        "\n",
        "    for l in range(1, len(layer_dims)):\n",
        "      W = np.random.randn(layer_dims[l], layer_dims[l-1]) * scale_param\n",
        "      B = np.zeros((layer_dims[l], 1))\n",
        "\n",
        "      params['W'].append(W)\n",
        "      params['b'].append(B)\n",
        "    return params"
      ],
      "metadata": {
        "id": "c8hsLrpIlLeO"
      },
      "execution_count": null,
      "outputs": []
    },
    {
      "cell_type": "markdown",
      "source": [
        "b"
      ],
      "metadata": {
        "id": "NG72pXrKlN5t"
      }
    },
    {
      "cell_type": "code",
      "source": [
        "def linear_forward(A, W, b):\n",
        "  \"\"\"\n",
        "  Description: Implement the linear part of a layer's forward propagation.\n",
        "\n",
        "  input:\n",
        "  A – the activations of the previous layer\n",
        "  W – the weight matrix of the current layer (of shape [size of current layer, size of previous layer])\n",
        "  B – the bias vector of the current layer (of shape [size of current layer, 1])\n",
        "\n",
        "  Output:\n",
        "  Z – the linear component of the activation function (i.e., the value before applying the non-linear function)\n",
        "  linear_cache – a dictionary containing A, W, b (stored for making the backpropagation easier to compute)\n",
        "  \"\"\"\n",
        "  Z = np.dot(W, A) + b  # applying linear function, matrix multiplication of A and W, then add the bias b\n",
        "  linear_cache = {'A': A, 'W': W, 'b': b}\n",
        "\n",
        "  return Z, linear_cache"
      ],
      "metadata": {
        "id": "NRYS7drylO2v"
      },
      "execution_count": null,
      "outputs": []
    },
    {
      "cell_type": "markdown",
      "source": [
        "c"
      ],
      "metadata": {
        "id": "suuBIeIt9ymL"
      }
    },
    {
      "cell_type": "code",
      "source": [
        "def softmax(Z):\n",
        "  \"\"\"\n",
        "  purpose: implement softmax function\n",
        "  Input:\n",
        "  Z – the linear component of the activation function\n",
        "\n",
        "  Output:\n",
        "  A – the activations of the layer\n",
        "  activation_cache – returns Z, which will be useful for the backpropagation\n",
        "\n",
        "  Softmax〖(z)〗_i=(exp⁡(z_i))/(∑_j▒〖exp⁡(z_j)〗)\n",
        "  \"\"\"\n",
        "  exp = np.exp(Z- np.max(Z, axis=0, keepdims=True))\n",
        "  A = exp / np.sum(exp,axis=0, keepdims=True)\n",
        "  activation_cache = {'Z' : Z}\n",
        "\n",
        "  return A, activation_cache"
      ],
      "metadata": {
        "id": "MtKDlDb-93eX"
      },
      "execution_count": null,
      "outputs": []
    },
    {
      "cell_type": "markdown",
      "source": [
        "d"
      ],
      "metadata": {
        "id": "tLaYz2yn_jB-"
      }
    },
    {
      "cell_type": "code",
      "source": [
        "def relu(Z):\n",
        "  \"\"\"\n",
        "  purpose: implement relu function\n",
        "  Input:\n",
        "  Z – the linear component of the activation function\n",
        "\n",
        "  Output:\n",
        "  A – the activations of the layer\n",
        "  activation_cache – returns Z, which will be useful for the backpropagation\n",
        "\n",
        "  relu(x) : max(0,x)\n",
        "  \"\"\"\n",
        "  A = np.maximum(0, Z)\n",
        "  activation_cache = {'Z' : Z}\n",
        "\n",
        "  return A, activation_cache"
      ],
      "metadata": {
        "id": "bgiI4Or1_kBV"
      },
      "execution_count": null,
      "outputs": []
    },
    {
      "cell_type": "markdown",
      "source": [
        "e"
      ],
      "metadata": {
        "id": "Mat4ZTOFAffy"
      }
    },
    {
      "cell_type": "code",
      "source": [
        "def linear_activation_forward(A_prev, W, B, activation):\n",
        "  \"\"\"\n",
        "  Description: Implement the forward propagation for the LINEAR->ACTIVATION layer\n",
        "\n",
        "  Input:\n",
        "  A_prev – activations of the previous layer\n",
        "  W – the weights matrix of the current layer\n",
        "  B – the bias vector of the current layer\n",
        "  Activation – the activation function to be used (a string, either “softmax” or “relu”)\n",
        "\n",
        "  Output:\n",
        "  A – the activations of the current layer\n",
        "  cache – a joint dictionary containing both linear_cache and activation_cache\n",
        "  \"\"\"\n",
        "  Z, linear_cache = linear_forward(A_prev,W, B)\n",
        "\n",
        "  if activation == \"softmax\":\n",
        "    A, activation_cache = softmax(Z)\n",
        "\n",
        "  else: # relu\n",
        "    A, activation_cache = relu(Z)\n",
        "\n",
        "  cache = {\"linear\": linear_cache, \"activation\": activation_cache}\n",
        "  return A, cache"
      ],
      "metadata": {
        "id": "3amSt3pZAhQ0"
      },
      "execution_count": null,
      "outputs": []
    },
    {
      "cell_type": "markdown",
      "source": [
        "f"
      ],
      "metadata": {
        "id": "EjkRC-suCdVs"
      }
    },
    {
      "cell_type": "code",
      "source": [
        "def L_model_forward(X, parameters, use_batchnorm):\n",
        "  \"\"\"\n",
        "  Description: Implement forward propagation for the [LINEAR->RELU]*(L-1)->LINEAR->SOFTMAX computation\n",
        "\n",
        "  Input:\n",
        "  X – the data, numpy array of shape (input size, number of examples)\n",
        "  parameters – the initialized W and b parameters of each layer\n",
        "  use_batchnorm - a boolean flag used to determine whether to apply batchnorm after the activation\n",
        "  (note that this option needs to be set to “false” in Section 3 and “true” in Section 4).\n",
        "\n",
        "  Output:\n",
        "  AL – the last post-activation value\n",
        "  caches – a list of all the cache objects generated by the linear_forward function\n",
        "  \"\"\"\n",
        "  caches = []\n",
        "  A = X\n",
        "  num_of_layers = len(parameters['W'])\n",
        "\n",
        "  # LINEAR->RELU\n",
        "  for i in range(0,num_of_layers- 1):\n",
        "\n",
        "    if use_batchnorm:\n",
        "      A = apply_batchnorm(A)\n",
        "\n",
        "    A, cache = linear_activation_forward(A, parameters['W'][i], parameters['b'][i], 'relu')\n",
        "    caches.append(cache)\n",
        "\n",
        "\n",
        "\n",
        "  # LINEAR->SOFTMAX\n",
        "  A, cache = linear_activation_forward(A, parameters['W'][-1], parameters['b'][-1], 'softmax')\n",
        "  caches.append(cache)\n",
        "\n",
        "  return A, caches\n",
        "\n"
      ],
      "metadata": {
        "id": "ZVuR3H64CeTS"
      },
      "execution_count": null,
      "outputs": []
    },
    {
      "cell_type": "markdown",
      "source": [
        "g"
      ],
      "metadata": {
        "id": "6uc9SnRBE6rY"
      }
    },
    {
      "cell_type": "code",
      "source": [
        "def compute_cost(AL, Y, parameters, lamda = 0):\n",
        "  \"\"\"\n",
        "  Description: Implement the cost function defined by equation. The requested cost function is categorical cross-entropy loss.\n",
        "  The formula is as follows : cost=-1/m*∑_1^m▒∑_1^C▒〖y_i  log⁡〖(y ̂)〗 〗,\n",
        "  where y_i is one for the true class (“ground-truth”) and y ̂ is the softmax-adjusted prediction.\n",
        "\n",
        "  Input:\n",
        "  AL – probability vector corresponding to your label predictions, shape (num_of_classes, number of examples)\n",
        "  Y – the labels vector (i.e. the ground truth)\n",
        "\n",
        "  Output:\n",
        "  cost – the cross-entropy cost\n",
        "  \"\"\"\n",
        "  epsilon = 1e-9\n",
        "  lamda = 0.04\n",
        "  m = AL.shape[1]  # number of examples\n",
        "\n",
        "  # Correcting Y shape to be the same as AL\n",
        "  Y_zeros = np.zeros_like(AL)\n",
        "  for i in range(len(Y)):\n",
        "      val = Y[i].item()\n",
        "      Y_zeros[val, i] = 1\n",
        "\n",
        "  # Compute the cross-entropy cost\n",
        "  cost = (-1/m) * np.sum(Y_zeros * np.log(AL + epsilon))\n",
        "\n",
        "  l2 = 0\n",
        "  if lamda > 0:\n",
        "   for value in parameters['W']:\n",
        "    l2 += np.sum(np.square(value))\n",
        "\n",
        "  final_cost = cost + (lamda / (2 * m)) * l2\n",
        "  return final_cost"
      ],
      "metadata": {
        "id": "WX_hiSKgE93w"
      },
      "execution_count": null,
      "outputs": []
    },
    {
      "cell_type": "markdown",
      "source": [
        "h"
      ],
      "metadata": {
        "id": "bjRvF544FODz"
      }
    },
    {
      "cell_type": "code",
      "source": [
        "def apply_batchnorm(A):\n",
        "  \"\"\"\n",
        "  Description: performs batchnorm on the received activation values of a given layer.\n",
        "\n",
        "  Input:\n",
        "  A - the activation values of a given layer\n",
        "\n",
        "  output:\n",
        "  NA - the normalized activation values, based on the formula learned in class\n",
        "  \"\"\"\n",
        "  epsilon = 1e-15  # Avoiding division by zero\n",
        "  A_mean = np.mean(A, axis=0, keepdims=True)\n",
        "  A_variance = np.var(A, axis=0, ddof=0, keepdims=True)\n",
        "  NA = (A - A_mean) / np.sqrt(A_variance + epsilon)\n",
        "\n",
        "  return NA\n"
      ],
      "metadata": {
        "id": "Dps7z09EFPry"
      },
      "execution_count": null,
      "outputs": []
    },
    {
      "cell_type": "markdown",
      "source": [
        "###Q2"
      ],
      "metadata": {
        "id": "cMgUABIN30Ih"
      }
    },
    {
      "cell_type": "markdown",
      "source": [
        "a"
      ],
      "metadata": {
        "id": "-1ajGZ13nIdd"
      }
    },
    {
      "cell_type": "code",
      "source": [
        "def Linear_backward(dZ, cache, lamda = 0):\n",
        "  \"\"\"\n",
        "  description: Implements the linear part of the backward propagation process for a single layer\n",
        "\n",
        "  Input:\n",
        "  dZ – the gradient of the cost with respect to the linear output of the current layer (layer l)\n",
        "  cache – tuple of values (A_prev, W, b) coming from the forward propagation in the current layer\n",
        "\n",
        "  Output:\n",
        "  dA_prev -- Gradient of the cost with respect to the activation (of the previous layer l-1), same shape as A_prev\n",
        "  dW -- Gradient of the cost with respect to W (current layer l), same shape as W\n",
        "  db -- Gradient of the cost with respect to b (current layer l), same shape as b\n",
        "  \"\"\"\n",
        "\n",
        "  m = cache['A'].shape[1]\n",
        "  dA_prev = np.dot(cache['W'].T, dZ)\n",
        "  dW = np.dot(dZ, cache['A'].T) / m + ((lamda / m) * cache['W'])\n",
        "  db = np.sum(dZ, axis=1, keepdims=True) / m\n",
        "\n",
        "  return dA_prev, dW, db\n"
      ],
      "metadata": {
        "id": "Sb_br-qY31Ip"
      },
      "execution_count": null,
      "outputs": []
    },
    {
      "cell_type": "markdown",
      "source": [
        "b"
      ],
      "metadata": {
        "id": "5i6skcFvnFTe"
      }
    },
    {
      "cell_type": "code",
      "source": [
        "def linear_activation_backward(dA, cache, activation, lamda = 0):\n",
        "  \"\"\"\n",
        "  Description: Implements the backward propagation for the LINEAR->ACTIVATION layer.\n",
        "  The function first computes dZ and then applies the linear_backward function.\n",
        "\n",
        "  Input:\n",
        "  dA – post activation gradient of the current layer\n",
        "  cache – contains both the linear cache and the activations cache\n",
        "  activation = softmax/relu\n",
        "\n",
        "  Output:\n",
        "  dA_prev – Gradient of the cost with respect to the activation (of the previous layer l-1), same shape as A_prev\n",
        "  dW – Gradient of the cost with respect to W (current layer l), same shape as W\n",
        "  db – Gradient of the cost with respect to b (current layer l), same shape as b\n",
        "  \"\"\"\n",
        "  if activation == 'relu':\n",
        "    dZ = relu_backward(dA, cache['activation'])\n",
        "\n",
        "  else: # softmax\n",
        "    dZ = softmax_backward(dA, cache['activation'])\n",
        "\n",
        "  tmp = cache['linear']\n",
        "  dA_prev, dW, db = Linear_backward(dZ, cache['linear'],lamda)\n",
        "\n",
        "  return dA_prev, dW, db"
      ],
      "metadata": {
        "id": "X3xT4aWonGwU"
      },
      "execution_count": null,
      "outputs": []
    },
    {
      "cell_type": "markdown",
      "source": [
        "c"
      ],
      "metadata": {
        "id": "aaKZz7oHxdpc"
      }
    },
    {
      "cell_type": "code",
      "source": [
        "def relu_backward(dA, activation_cache):\n",
        "  \"\"\"\n",
        "  Description: Implements backward propagation for a ReLU unit\n",
        "\n",
        "  Input:\n",
        "  dA – the post-activation gradient\n",
        "  activation_cache – contains Z (stored during the forward propagation)\n",
        "\n",
        "  Output:\n",
        "  dZ – gradient of the cost with respect to Z\n",
        "  \"\"\"\n",
        "  Z = activation_cache['Z']\n",
        "  dZ = np.where(Z > 0, 1, 0)\n",
        "\n",
        "  return dZ*dA"
      ],
      "metadata": {
        "id": "BSASbdgFxeVc"
      },
      "execution_count": null,
      "outputs": []
    },
    {
      "cell_type": "markdown",
      "source": [
        "d"
      ],
      "metadata": {
        "id": "f3frIcXkx2TU"
      }
    },
    {
      "cell_type": "code",
      "source": [
        "def softmax_backward(dA, activation_cache):\n",
        "  \"\"\"\n",
        "  Description:Implements backward propagation for a softmax unit\n",
        "\n",
        "  Input:\n",
        "  dA – the post-activation gradient // Actually we pass the Y values\n",
        "  activation_cache – contains Z (stored during the forward propagation)\n",
        "\n",
        "  Output:\n",
        "  dZ – gradient of the cost with respect to Z\n",
        "  \"\"\"\n",
        "  return dA"
      ],
      "metadata": {
        "id": "E4K7UH78yjzD"
      },
      "execution_count": null,
      "outputs": []
    },
    {
      "cell_type": "markdown",
      "source": [
        "e"
      ],
      "metadata": {
        "id": "I4JNKy4lHc4i"
      }
    },
    {
      "cell_type": "code",
      "source": [
        "def L_model_backward(AL, Y, caches, lamda = 0):\n",
        "  \"\"\"\n",
        "  Description: Implement the backward propagation process for the entire network.\n",
        "\n",
        "  Input:\n",
        "  AL - the probabilities vector, the output of the forward propagation (L_model_forward)\n",
        "  Y - the true labels vector (the \"ground truth\" - true classifications)\n",
        "  Caches - list of caches containing for each layer: a) the linear cache; b) the activation cache\n",
        "\n",
        "  Output:\n",
        "  Grads - a dictionary with the gradients\n",
        "              grads[\"dA\" + str(l)] = ...\n",
        "              grads[\"dW\" + str(l)] = ...\n",
        "              grads[\"db\" + str(l)] = ...\n",
        "\n",
        "  \"\"\"\n",
        "  Grads = {}\n",
        "  # reshape Y to ba like AL\n",
        "  Y_zeros = np.zeros_like(AL)\n",
        "  for i in range(len(Y)):\n",
        "      val = Y[i].item()\n",
        "      Y_zeros[val, i] = 1\n",
        "  matrix_y = np.eye(AL.shape[0])[Y].T # True labels from vector to matrix\n",
        "  dZ = AL - matrix_y # gradient of the cost with respect to Z\n",
        "  for i in range(len(caches) - 1, -1, -1):\n",
        "    if i == len(caches) - 1:\n",
        "      dA_prev, dW, db = linear_activation_backward(dZ, caches[i], \"softmax\", lamda)\n",
        "    else:\n",
        "      dA_prev, dW, db = linear_activation_backward(dA_prev, caches[i], \"relu\", lamda)\n",
        "\n",
        "    Grads[\"dA\" + str(i)] = dA_prev\n",
        "    Grads[\"dW\" + str(i)] = dW\n",
        "    Grads[\"db\" + str(i)] = db\n",
        "\n",
        "  return Grads"
      ],
      "metadata": {
        "id": "sKZDiWKEAvHY"
      },
      "execution_count": null,
      "outputs": []
    },
    {
      "cell_type": "markdown",
      "source": [
        "f"
      ],
      "metadata": {
        "id": "ZUtKTHcd69kF"
      }
    },
    {
      "cell_type": "code",
      "source": [
        "def Update_parameters(parameters, grads, learning_rate):\n",
        "  \"\"\"\n",
        "  Description: Updates parameters using gradient descent\n",
        "\n",
        "  Input:\n",
        "  parameters – a python dictionary containing the DNN architecture’s parameters\n",
        "  grads – a python dictionary containing the gradients (generated by L_model_backward)\n",
        "  learning_rate – the learning rate used to update the parameters (the “alpha”)\n",
        "\n",
        "  Output:\n",
        "  parameters – the updated values of the parameters object provided as input\n",
        "  \"\"\"\n",
        "  W = parameters['W']\n",
        "  b = parameters['b']\n",
        "\n",
        "  for i in range(len(W)):\n",
        "    W[i] = W[i] - learning_rate * grads['dW'+ str(i)]\n",
        "    b[i] = b[i] - learning_rate * grads['db' + str(i)].reshape(-1,1)\n",
        "\n",
        "  return {'W' : W, 'b': b}\n",
        "\n"
      ],
      "metadata": {
        "id": "o7z91Im56_LW"
      },
      "execution_count": null,
      "outputs": []
    },
    {
      "cell_type": "markdown",
      "source": [
        "###Q3"
      ],
      "metadata": {
        "id": "qsToVpiwA2k0"
      }
    },
    {
      "cell_type": "markdown",
      "source": [
        "a"
      ],
      "metadata": {
        "id": "0KqGpZSxA48P"
      }
    },
    {
      "cell_type": "code",
      "source": [
        "def L_layer_model(X, Y, layers_dims, learning_rate, num_iterations, batch_size, l2=False, lamda = 0, use_batchnorm = False):\n",
        "  \"\"\"\n",
        "  Input:\n",
        "  X – the input data, a numpy array of shape (height*width , number_of_examples)\n",
        "  Comment: since the input is in grayscale we only have height and width, otherwise it would have been height*width*3\n",
        "  Y – the “real” labels of the data, a vector of shape (num_of_classes, number of examples)\n",
        "  Layer_dims – a list containing the dimensions of each layer, including the input\n",
        "  batch_size – the number of examples in a single training batch.\n",
        "\n",
        "  Output:\n",
        "  parameters – the parameters learnt by the system during the training (the same parameters that were updated in the update_parameters function).\n",
        "  costs – the values of the cost function (calculated by the compute_cost function).\n",
        "  One value is to be saved after each 100 training iterations (e.g. 3000 iterations -> 30 values).\n",
        "  \"\"\"\n",
        "  # shuf_idx = np.arange(X.shape[1])\n",
        "  # np.random.shuffle(shuf_idx)\n",
        "  # val_size = int(len(shuf_idx) * 0.2)\n",
        "  # val_idx, train_idx = shuf_idx[:val_size], shuf_idx[val_size:]\n",
        "  # x_train, x_val, y_train, y_val = X[:,train_idx], X[:,val_idx], Y[train_idx], Y[val_idx]\n",
        "  m = X.shape[1]\n",
        "  indices = np.random.permutation(m)\n",
        "  train_size = int(m * 0.8)\n",
        "\n",
        "  train_indices = indices[:train_size]\n",
        "  val_indices = indices[train_size:]\n",
        "\n",
        "  x_train, x_val = X[:, train_indices], X[:, val_indices]\n",
        "  y_train, y_val = Y[train_indices], Y[val_indices]\n",
        "\n",
        "  parameters = initialize_parameters(layers_dims)  # {'W': [], 'b': []}\n",
        "  costs = {'train' : [], 'Validation': []}\n",
        "  improvement = True\n",
        "  iter = 0\n",
        "  current_val_accuracy = 0\n",
        "  priviuos_val_accuracy = 0\n",
        "  batch_idx = 0\n",
        "  train_batches = create_batches(x_train, y_train, batch_size)\n",
        "\n",
        "  while improvement and iter<num_iterations:\n",
        "\n",
        "    for start in range(0, x_train.shape[1], batch_size):\n",
        "      end = start + batch_size\n",
        "      batch_X = x_train[:, start:end]\n",
        "      batch_Y = y_train[start:end]\n",
        "      AL, caches = L_model_forward(batch_X, parameters, use_batchnorm)\n",
        "      Grads = L_model_backward(AL,batch_Y,caches, lamda)\n",
        "      parameters = Update_parameters(parameters, Grads, learning_rate)\n",
        "      batch_idx += 1\n",
        "      if batch_idx+= % 100 == 0:\n",
        "        AL_v, _ = L_model_forward(x_val, parameters, use_batchnorm)\n",
        "        cost_t = compute_cost(AL, batch_Y,parameters, lamda)\n",
        "        cost_v = compute_cost(AL_v, y_val,parameters, lamda)\n",
        "        costs['train'].append(cost_t)\n",
        "        costs['Validation'].append(cost_v)\n",
        "        current_val_accuracy = Predict(x_val, y_val, parameters)\n",
        "        improvement = (priviuos_val_accuracy + 0.00001) < current_val_accuracy\n",
        "        priviuos_val_accuracy = current_val_accuracy\n",
        "        print(f\"iteration: {iter}, batch: {batch_idx+1}, training cost: {cost_t}, validation accuracy: {current_val_accuracy}\")\n",
        "\n",
        "\n",
        "    iter += 1\n",
        "\n",
        "\n",
        "\n",
        "  training_accuracy = Predict(x_train,y_train, parameters)\n",
        "  validation_accuracy = Predict(x_val, y_val, parameters)\n",
        "\n",
        "  print(\"Final Results: \")\n",
        "  print(f\"Training Accuracy: {training_accuracy}\")\n",
        "  print(f\"Validation Accuracy: {validation_accuracy}\")\n",
        "\n",
        "\n",
        "  return parameters, costs\n"
      ],
      "metadata": {
        "id": "CgqZJew_A4MH"
      },
      "execution_count": null,
      "outputs": []
    },
    {
      "cell_type": "code",
      "source": [
        "def split_dataset(X, Y, train_ratio=0.8, seed=10):\n",
        "    \"\"\"\n",
        "    Splits the dataset into training and validation sets.\n",
        "\n",
        "    Parameters:\n",
        "    - X: Input features, numpy array of shape (n_features, m_examples).\n",
        "    - Y: Labels, numpy array of shape (n_labels, m_examples).\n",
        "    - train_ratio: Percentage of the dataset to be used as training set.\n",
        "    - seed: Random seed for reproducibility.\n",
        "\n",
        "    Returns:\n",
        "    - X_train, X_val: Training and validation sets of features.\n",
        "    - Y_train, Y_val: Training and validation sets of labels.\n",
        "    \"\"\"\n",
        "    m = X.shape[1]\n",
        "    indices = np.random.permutation(m)\n",
        "    train_size = int(m * train_ratio)\n",
        "\n",
        "    train_indices = indices[:train_size]\n",
        "    val_indices = indices[train_size:]\n",
        "\n",
        "    X_train, X_val = X[:, train_indices], X[:, val_indices]\n",
        "    Y_train, Y_val = Y[:, train_indices], Y[:, val_indices]\n",
        "\n",
        "    return X_train, X_val, Y_train, Y_val"
      ],
      "metadata": {
        "id": "_QtszBlI4Gla"
      },
      "execution_count": null,
      "outputs": []
    },
    {
      "cell_type": "code",
      "source": [
        "def create_batches(x, y, batch_size):\n",
        "  num_of_examples = x.shape[1]\n",
        "  suffeld_indices = list(range(num_of_examples))\n",
        "  np.random.shuffle(suffeld_indices)\n",
        "  batches = []\n",
        "\n",
        "  for i in range(0, num_of_examples, batch_size):\n",
        "      generated_batch_indices = suffeld_indices[i:i + batch_size]\n",
        "      batches.append((x[:, generated_batch_indices], y[generated_batch_indices]))\n",
        "  return batches"
      ],
      "metadata": {
        "id": "A5iMwyC3AVkY"
      },
      "execution_count": null,
      "outputs": []
    },
    {
      "cell_type": "markdown",
      "source": [
        "b"
      ],
      "metadata": {
        "id": "fNV3BAPIA6_9"
      }
    },
    {
      "cell_type": "code",
      "source": [
        "def Predict(X, Y, parameters):\n",
        "  \"\"\"\n",
        "  Description: The function receives an input data and the true labels and calculates\n",
        "  the accuracy of the trained neural network on the data.\n",
        "\n",
        "  Input:\n",
        "  X – the input data, a numpy array of shape (height*width, number_of_examples)\n",
        "  Y – the “real” labels of the data, a vector of shape (num_of_classes, number of examples)\n",
        "  Parameters – a python dictionary containing the DNN architecture’s parameters\n",
        "\n",
        "  Output:\n",
        "  accuracy – the accuracy measure of the neural net on the provided data\n",
        "  (i.e. the percentage of the samples for which the correct label receives the hughest confidence score).\n",
        "  Use the softmax function to normalize the output values.\n",
        "\n",
        "  \"\"\"\n",
        "\n",
        "  AL,ca = L_model_forward(X, parameters, False)\n",
        "  Preds = np.argmax(AL, axis=0)\n",
        "  correct_preds = int(np.sum(Y == Preds))\n",
        "  accuracy = correct_preds / Y.shape[0]\n",
        "\n",
        "  return accuracy"
      ],
      "metadata": {
        "id": "LE2O9LRoA7xs"
      },
      "execution_count": null,
      "outputs": []
    },
    {
      "cell_type": "markdown",
      "source": [
        "####Q4"
      ],
      "metadata": {
        "id": "B-cmaXNjHH3p"
      }
    },
    {
      "cell_type": "code",
      "source": [
        "def load_Mnist():\n",
        "  (x_train, y_train), (x_test, y_test) = mnist.load_data()\n",
        "  x_train = x_train.reshape(x_train.shape[0], 784).T / 255\n",
        "  x_test = x_test.reshape(x_test.shape[0], 784).T / 255\n",
        "  return (x_train, y_train), (x_test, y_test)"
      ],
      "metadata": {
        "id": "NBQ3dhuQSg6-"
      },
      "execution_count": null,
      "outputs": []
    },
    {
      "cell_type": "code",
      "source": [
        "def main(batch_size):\n",
        "  (x_train, y_train), (x_test, y_test) = load_Mnist() # x : [784, 6000]\n",
        "  parameters, costs_list = L_layer_model(x_train, y_train, [784,20,7,5,10], 0.009, 100, batch_size, l2=False, lamda=0.0, use_batchnorm=False)\n",
        "  test_accuracy = Predict(x_test, y_test, parameters)\n",
        "  print(f\"test accuracy: {test_accuracy}\")\n",
        "  return costs_list"
      ],
      "metadata": {
        "id": "neZV2SkcYOZj"
      },
      "execution_count": null,
      "outputs": []
    },
    {
      "cell_type": "code",
      "source": [
        "import matplotlib.pyplot as plt\n",
        "\n",
        "def plot_costs(costs):\n",
        "    # Assuming costs1 and costs2 are lists of costs for each training step\n",
        "    plt.figure(figsize=(10, 6))\n",
        "    # Plotting the first set of costs\n",
        "    plt.plot(costs['train'], label='training cost',  marker='o', linestyle='-', color='b', markersize=1 )\n",
        "\n",
        "    # Plotting the second set of costs\n",
        "    plt.plot(costs['Validation'], label='validation cost', marker='o', linestyle='-', color='r', markersize=1 )\n",
        "\n",
        "    # Adding labels and title\n",
        "    plt.xlabel('Training Step')\n",
        "    plt.ylabel('Cost')\n",
        "    plt.title('Cost as a Function of Training Step')\n",
        "\n",
        "    # Adding legend\n",
        "    plt.legend()\n",
        "\n",
        "    # Display the plot\n",
        "    plt.show()"
      ],
      "metadata": {
        "id": "TZTVm5KOiG3w"
      },
      "execution_count": null,
      "outputs": []
    },
    {
      "cell_type": "markdown",
      "source": [
        "no batch norm and no l2"
      ],
      "metadata": {
        "id": "E-ElldMGA4Io"
      }
    },
    {
      "cell_type": "code",
      "source": [
        "costs_32_no_norm = main(batch_size = 32)"
      ],
      "metadata": {
        "colab": {
          "base_uri": "https://localhost:8080/"
        },
        "id": "0xZ4ITUWegPu",
        "outputId": "b010a697-107b-4957-bc5a-80e42522e259"
      },
      "execution_count": null,
      "outputs": [
        {
          "output_type": "stream",
          "name": "stdout",
          "text": [
            "iteration: 0, batch: 101, training cost: 4.774063049643108, validation accuracy: 0.12791666666666668\n",
            "iteration: 0, batch: 201, training cost: 4.812139319430007, validation accuracy: 0.11441666666666667\n",
            "iteration: 0, batch: 301, training cost: 4.744482882027469, validation accuracy: 0.13333333333333333\n",
            "iteration: 0, batch: 401, training cost: 4.736781353860083, validation accuracy: 0.15025\n",
            "iteration: 0, batch: 501, training cost: 4.606737308385897, validation accuracy: 0.168\n",
            "iteration: 0, batch: 601, training cost: 4.496505351371688, validation accuracy: 0.18591666666666667\n",
            "iteration: 0, batch: 701, training cost: 4.566473891063259, validation accuracy: 0.21175\n",
            "iteration: 0, batch: 801, training cost: 4.4728697920244755, validation accuracy: 0.216\n",
            "iteration: 0, batch: 901, training cost: 4.524056904620711, validation accuracy: 0.2635\n",
            "iteration: 0, batch: 1001, training cost: 4.412199438770399, validation accuracy: 0.2738333333333333\n",
            "iteration: 0, batch: 1101, training cost: 4.628840236994035, validation accuracy: 0.287\n",
            "iteration: 0, batch: 1201, training cost: 4.287075856677847, validation accuracy: 0.29483333333333334\n",
            "iteration: 0, batch: 1301, training cost: 4.5831316691377975, validation accuracy: 0.314\n",
            "iteration: 0, batch: 1401, training cost: 4.480801868973035, validation accuracy: 0.3294166666666667\n",
            "iteration: 0, batch: 1501, training cost: 4.51700958407015, validation accuracy: 0.34525\n",
            "iteration: 1, batch: 1601, training cost: 4.6692058839648904, validation accuracy: 0.36283333333333334\n",
            "iteration: 1, batch: 1701, training cost: 4.255337145831325, validation accuracy: 0.37175\n",
            "iteration: 1, batch: 1801, training cost: 4.1919219445162055, validation accuracy: 0.3809166666666667\n",
            "iteration: 1, batch: 1901, training cost: 4.175318855831769, validation accuracy: 0.399\n",
            "iteration: 1, batch: 2001, training cost: 4.092122682562202, validation accuracy: 0.4081666666666667\n",
            "iteration: 1, batch: 2101, training cost: 3.9366925236530586, validation accuracy: 0.43066666666666664\n",
            "iteration: 1, batch: 2201, training cost: 3.690504635321967, validation accuracy: 0.44583333333333336\n",
            "iteration: 1, batch: 2301, training cost: 4.025447057798539, validation accuracy: 0.42916666666666664\n",
            "iteration: 1, batch: 2401, training cost: 4.045094090992787, validation accuracy: 0.45658333333333334\n",
            "iteration: 1, batch: 2501, training cost: 4.041914144378383, validation accuracy: 0.43983333333333335\n",
            "iteration: 1, batch: 2601, training cost: 3.9883509003421684, validation accuracy: 0.46208333333333335\n",
            "iteration: 1, batch: 2701, training cost: 3.6369859004045555, validation accuracy: 0.4915\n",
            "iteration: 1, batch: 2801, training cost: 4.140558670396285, validation accuracy: 0.5084166666666666\n",
            "iteration: 1, batch: 2901, training cost: 4.032944522401655, validation accuracy: 0.4815\n",
            "iteration: 1, batch: 3001, training cost: 3.8820162709292068, validation accuracy: 0.5105833333333333\n",
            "iteration: 2, batch: 3101, training cost: 4.041434724042217, validation accuracy: 0.5331666666666667\n",
            "iteration: 2, batch: 3201, training cost: 3.76990713097884, validation accuracy: 0.54175\n",
            "iteration: 2, batch: 3301, training cost: 3.696959884225571, validation accuracy: 0.5443333333333333\n",
            "iteration: 2, batch: 3401, training cost: 3.919069010070528, validation accuracy: 0.5600833333333334\n",
            "iteration: 2, batch: 3501, training cost: 3.7564845225684356, validation accuracy: 0.5615833333333333\n",
            "iteration: 2, batch: 3601, training cost: 3.4857378760014317, validation accuracy: 0.5600833333333334\n",
            "iteration: 2, batch: 3701, training cost: 3.300637387570173, validation accuracy: 0.5805\n",
            "iteration: 2, batch: 3801, training cost: 3.5542476581569957, validation accuracy: 0.5718333333333333\n",
            "iteration: 2, batch: 3901, training cost: 3.954086266441025, validation accuracy: 0.59325\n",
            "iteration: 2, batch: 4001, training cost: 3.668410382513355, validation accuracy: 0.5828333333333333\n",
            "iteration: 2, batch: 4101, training cost: 3.740888627026436, validation accuracy: 0.5800833333333333\n",
            "iteration: 2, batch: 4201, training cost: 3.2674380848477673, validation accuracy: 0.6161666666666666\n",
            "iteration: 2, batch: 4301, training cost: 3.6490548871325936, validation accuracy: 0.6110833333333333\n",
            "iteration: 2, batch: 4401, training cost: 3.640011725199825, validation accuracy: 0.59675\n",
            "iteration: 2, batch: 4501, training cost: 3.5472429177459914, validation accuracy: 0.6105833333333334\n",
            "iteration: 3, batch: 4601, training cost: 3.702509099342521, validation accuracy: 0.6185833333333334\n",
            "iteration: 3, batch: 4701, training cost: 3.633145078240963, validation accuracy: 0.6343333333333333\n",
            "iteration: 3, batch: 4801, training cost: 3.360831884952981, validation accuracy: 0.6216666666666667\n",
            "iteration: 3, batch: 4901, training cost: 3.7665400061488707, validation accuracy: 0.6474166666666666\n",
            "iteration: 3, batch: 5001, training cost: 3.4497789152046425, validation accuracy: 0.63325\n",
            "iteration: 3, batch: 5101, training cost: 3.3644085333276985, validation accuracy: 0.6204166666666666\n",
            "iteration: 3, batch: 5201, training cost: 3.1641662597010214, validation accuracy: 0.6475833333333333\n",
            "iteration: 3, batch: 5301, training cost: 3.3735349467236073, validation accuracy: 0.6403333333333333\n",
            "iteration: 3, batch: 5401, training cost: 3.7959122741774234, validation accuracy: 0.6478333333333334\n",
            "iteration: 3, batch: 5501, training cost: 3.5320905796926967, validation accuracy: 0.633\n",
            "iteration: 3, batch: 5601, training cost: 3.6438147770973477, validation accuracy: 0.6418333333333334\n",
            "iteration: 3, batch: 5701, training cost: 3.0980391524152044, validation accuracy: 0.67\n",
            "iteration: 3, batch: 5801, training cost: 3.379971218662896, validation accuracy: 0.6608333333333334\n",
            "iteration: 3, batch: 5901, training cost: 3.492448443898314, validation accuracy: 0.6488333333333334\n",
            "iteration: 3, batch: 6001, training cost: 3.3068494012832623, validation accuracy: 0.658\n",
            "iteration: 4, batch: 6101, training cost: 3.6641923374304435, validation accuracy: 0.6696666666666666\n",
            "iteration: 4, batch: 6201, training cost: 3.53238037526678, validation accuracy: 0.6815\n",
            "iteration: 4, batch: 6301, training cost: 3.1840202260031596, validation accuracy: 0.6649166666666667\n",
            "iteration: 4, batch: 6401, training cost: 3.654803557105141, validation accuracy: 0.6859166666666666\n",
            "iteration: 4, batch: 6501, training cost: 3.3123769849089726, validation accuracy: 0.6835833333333333\n",
            "iteration: 4, batch: 6601, training cost: 3.297155022971957, validation accuracy: 0.6601666666666667\n",
            "iteration: 4, batch: 6701, training cost: 3.0463398217475834, validation accuracy: 0.6884166666666667\n",
            "iteration: 4, batch: 6801, training cost: 3.258257653246682, validation accuracy: 0.6869166666666666\n",
            "iteration: 4, batch: 6901, training cost: 3.6442341343775753, validation accuracy: 0.68525\n",
            "iteration: 4, batch: 7001, training cost: 3.472353184873503, validation accuracy: 0.67575\n",
            "iteration: 4, batch: 7101, training cost: 3.5376128722294466, validation accuracy: 0.6818333333333333\n",
            "iteration: 4, batch: 7201, training cost: 3.0119719054176515, validation accuracy: 0.70575\n",
            "iteration: 4, batch: 7301, training cost: 3.245503354401123, validation accuracy: 0.6979166666666666\n",
            "iteration: 4, batch: 7401, training cost: 3.391048520807535, validation accuracy: 0.6898333333333333\n",
            "iteration: 4, batch: 7501, training cost: 3.1631876174342883, validation accuracy: 0.6913333333333334\n",
            "iteration: 5, batch: 7601, training cost: 3.5901606911111825, validation accuracy: 0.705\n",
            "iteration: 5, batch: 7701, training cost: 3.4116537202093, validation accuracy: 0.7126666666666667\n",
            "iteration: 5, batch: 7801, training cost: 3.079795599613021, validation accuracy: 0.6993333333333334\n",
            "iteration: 5, batch: 7901, training cost: 3.5764850265127652, validation accuracy: 0.7184166666666667\n",
            "iteration: 5, batch: 8001, training cost: 3.1965965527827342, validation accuracy: 0.7158333333333333\n",
            "iteration: 5, batch: 8101, training cost: 3.2454321904550114, validation accuracy: 0.6886666666666666\n",
            "iteration: 5, batch: 8201, training cost: 2.950670525800378, validation accuracy: 0.7175833333333334\n",
            "iteration: 5, batch: 8301, training cost: 3.1739821163933386, validation accuracy: 0.7139166666666666\n",
            "iteration: 5, batch: 8401, training cost: 3.5001741245674394, validation accuracy: 0.7134166666666667\n",
            "iteration: 5, batch: 8501, training cost: 3.4158094434680013, validation accuracy: 0.70675\n",
            "iteration: 5, batch: 8601, training cost: 3.483449401986243, validation accuracy: 0.7128333333333333\n",
            "iteration: 5, batch: 8701, training cost: 2.967777908354026, validation accuracy: 0.7319166666666667\n",
            "iteration: 5, batch: 8801, training cost: 3.170554356084662, validation accuracy: 0.72475\n",
            "iteration: 5, batch: 8901, training cost: 3.2837168844414757, validation accuracy: 0.7209166666666667\n",
            "iteration: 5, batch: 9001, training cost: 3.0814048437363253, validation accuracy: 0.7178333333333333\n",
            "Final Results: \n",
            "Training Accuracy: 0.7199791666666666\n",
            "Validation Accuracy: 0.7178333333333333\n",
            "test accuracy: 0.7312\n"
          ]
        }
      ]
    },
    {
      "cell_type": "code",
      "source": [
        "plot_costs(costs_32_no_norm)"
      ],
      "metadata": {
        "colab": {
          "base_uri": "https://localhost:8080/",
          "height": 564
        },
        "id": "V8d63ApliXQ-",
        "outputId": "f4052bdd-5ed2-48f9-a29e-93d666f03f6e"
      },
      "execution_count": null,
      "outputs": [
        {
          "output_type": "display_data",
          "data": {
            "text/plain": [
              "<Figure size 1000x600 with 1 Axes>"
            ],
            "image/png": "[encoded data removed]"
          },
          "metadata": {}
        }
      ]
    },
    {
      "cell_type": "markdown",
      "source": [
        "yes batch norm no L2"
      ],
      "metadata": {
        "id": "hSfozqNJD24A"
      }
    },
    {
      "cell_type": "code",
      "source": [
        "costs_32_batch_norm = main(batch_size = 32)"
      ],
      "metadata": {
        "colab": {
          "base_uri": "https://localhost:8080/"
        },
        "id": "OiExzRmyD5Dy",
        "outputId": "dafb4a55-fdbf-4548-8115-d82d31ef9ba9"
      },
      "execution_count": null,
      "outputs": [
        {
          "output_type": "stream",
          "name": "stdout",
          "text": [
            "iteration: 0, batch: 100, training cost: 4.696798054416451, validation accuracy: 0.17641666666666667\n",
            "iteration: 0, batch: 200, training cost: 4.303443490505102, validation accuracy: 0.21483333333333332\n",
            "iteration: 0, batch: 300, training cost: 4.382065057846749, validation accuracy: 0.26216666666666666\n",
            "iteration: 0, batch: 400, training cost: 4.222024188013132, validation accuracy: 0.28225\n",
            "iteration: 0, batch: 500, training cost: 4.276235911678668, validation accuracy: 0.29675\n",
            "iteration: 0, batch: 600, training cost: 4.573436606552114, validation accuracy: 0.32325\n",
            "iteration: 0, batch: 700, training cost: 4.335002402626036, validation accuracy: 0.32133333333333336\n",
            "iteration: 0, batch: 800, training cost: 4.520040251887632, validation accuracy: 0.34841666666666665\n",
            "iteration: 0, batch: 900, training cost: 4.330865653129688, validation accuracy: 0.3506666666666667\n",
            "iteration: 0, batch: 1000, training cost: 4.267601586640502, validation accuracy: 0.3645\n",
            "iteration: 0, batch: 1100, training cost: 4.23550329454036, validation accuracy: 0.37916666666666665\n",
            "iteration: 0, batch: 1200, training cost: 4.112184602414763, validation accuracy: 0.38925\n",
            "iteration: 0, batch: 1300, training cost: 4.381920703475458, validation accuracy: 0.45416666666666666\n",
            "iteration: 0, batch: 1400, training cost: 4.209407916295069, validation accuracy: 0.46\n",
            "iteration: 0, batch: 1500, training cost: 4.000397992530272, validation accuracy: 0.48483333333333334\n",
            "iteration: 1, batch: 100, training cost: 4.123636917562769, validation accuracy: 0.48883333333333334\n",
            "iteration: 1, batch: 200, training cost: 3.95641808340384, validation accuracy: 0.49725\n",
            "iteration: 1, batch: 300, training cost: 4.04274557962847, validation accuracy: 0.5063333333333333\n",
            "iteration: 1, batch: 400, training cost: 3.920483473948384, validation accuracy: 0.5328333333333334\n",
            "iteration: 1, batch: 500, training cost: 4.156306743536048, validation accuracy: 0.544\n",
            "iteration: 1, batch: 600, training cost: 4.478504988167819, validation accuracy: 0.5616666666666666\n",
            "iteration: 1, batch: 700, training cost: 4.306873498755019, validation accuracy: 0.5551666666666667\n",
            "iteration: 1, batch: 800, training cost: 4.556159618410824, validation accuracy: 0.5749166666666666\n",
            "iteration: 1, batch: 900, training cost: 4.585743488275086, validation accuracy: 0.5963333333333334\n",
            "iteration: 1, batch: 1000, training cost: 4.330194560140537, validation accuracy: 0.60475\n",
            "iteration: 1, batch: 1100, training cost: 4.418155461012979, validation accuracy: 0.63875\n",
            "iteration: 1, batch: 1200, training cost: 4.380444055231264, validation accuracy: 0.6465\n",
            "iteration: 1, batch: 1300, training cost: 4.31937618899423, validation accuracy: 0.6778333333333333\n",
            "iteration: 1, batch: 1400, training cost: 4.615598623193625, validation accuracy: 0.67725\n",
            "iteration: 1, batch: 1500, training cost: 4.403897601697091, validation accuracy: 0.6995\n",
            "iteration: 2, batch: 100, training cost: 4.419918994751693, validation accuracy: 0.695\n",
            "iteration: 2, batch: 200, training cost: 4.469283018486336, validation accuracy: 0.7049166666666666\n",
            "iteration: 2, batch: 300, training cost: 4.859435815521214, validation accuracy: 0.7229166666666667\n",
            "iteration: 2, batch: 400, training cost: 4.690205548716061, validation accuracy: 0.73125\n",
            "iteration: 2, batch: 500, training cost: 4.9263420472020165, validation accuracy: 0.7479166666666667\n",
            "iteration: 2, batch: 600, training cost: 5.30713248641765, validation accuracy: 0.7585833333333334\n",
            "iteration: 2, batch: 700, training cost: 5.249106750141617, validation accuracy: 0.7638333333333334\n",
            "iteration: 2, batch: 800, training cost: 5.604326991623577, validation accuracy: 0.7754166666666666\n",
            "iteration: 2, batch: 900, training cost: 5.677199907118366, validation accuracy: 0.7744166666666666\n",
            "iteration: 2, batch: 1000, training cost: 5.545507862636825, validation accuracy: 0.784\n",
            "iteration: 2, batch: 1100, training cost: 5.585107880815689, validation accuracy: 0.7888333333333334\n",
            "iteration: 2, batch: 1200, training cost: 5.852929483809956, validation accuracy: 0.79225\n",
            "iteration: 2, batch: 1300, training cost: 5.636265740919818, validation accuracy: 0.7975833333333333\n",
            "iteration: 2, batch: 1400, training cost: 6.119650626079433, validation accuracy: 0.8039166666666666\n",
            "iteration: 2, batch: 1500, training cost: 5.8771429163361075, validation accuracy: 0.8063333333333333\n",
            "iteration: 3, batch: 100, training cost: 5.982019868976894, validation accuracy: 0.8069166666666666\n",
            "iteration: 3, batch: 200, training cost: 6.232912780349359, validation accuracy: 0.8119166666666666\n",
            "iteration: 3, batch: 300, training cost: 6.522850819413894, validation accuracy: 0.8143333333333334\n",
            "iteration: 3, batch: 400, training cost: 6.539983628857099, validation accuracy: 0.8093333333333333\n",
            "iteration: 3, batch: 500, training cost: 6.843433403859933, validation accuracy: 0.8211666666666667\n",
            "iteration: 3, batch: 600, training cost: 7.194165436427923, validation accuracy: 0.8241666666666667\n",
            "iteration: 3, batch: 700, training cost: 7.256228564919507, validation accuracy: 0.8244166666666667\n",
            "iteration: 3, batch: 800, training cost: 7.614354479075813, validation accuracy: 0.8256666666666667\n",
            "iteration: 3, batch: 900, training cost: 7.6492080097332575, validation accuracy: 0.8263333333333334\n",
            "iteration: 3, batch: 1000, training cost: 7.8711872267676615, validation accuracy: 0.82875\n",
            "iteration: 3, batch: 1100, training cost: 7.857071465816105, validation accuracy: 0.8329166666666666\n",
            "iteration: 3, batch: 1200, training cost: 8.228054762894786, validation accuracy: 0.8315833333333333\n",
            "iteration: 3, batch: 1300, training cost: 8.054176122366496, validation accuracy: 0.8339166666666666\n",
            "iteration: 3, batch: 1400, training cost: 8.622102813954879, validation accuracy: 0.8354166666666667\n",
            "iteration: 3, batch: 1500, training cost: 8.41880734684978, validation accuracy: 0.8364166666666667\n",
            "iteration: 4, batch: 100, training cost: 8.579160174396321, validation accuracy: 0.836\n",
            "iteration: 4, batch: 200, training cost: 8.984722735152491, validation accuracy: 0.8394166666666667\n",
            "iteration: 4, batch: 300, training cost: 9.05907972585046, validation accuracy: 0.8415833333333333\n",
            "iteration: 4, batch: 400, training cost: 9.282013228146958, validation accuracy: 0.8379166666666666\n",
            "iteration: 4, batch: 500, training cost: 9.656999364977299, validation accuracy: 0.8454166666666667\n",
            "iteration: 4, batch: 600, training cost: 9.90794420709959, validation accuracy: 0.84775\n",
            "iteration: 4, batch: 700, training cost: 10.07862966611429, validation accuracy: 0.8470833333333333\n",
            "iteration: 4, batch: 800, training cost: 10.396725311015082, validation accuracy: 0.84775\n",
            "iteration: 4, batch: 900, training cost: 10.475719916224163, validation accuracy: 0.8474166666666667\n",
            "iteration: 4, batch: 1000, training cost: 10.792342240073689, validation accuracy: 0.8493333333333334\n",
            "iteration: 4, batch: 1100, training cost: 10.805824035270327, validation accuracy: 0.8529166666666667\n",
            "iteration: 4, batch: 1200, training cost: 11.270789838910957, validation accuracy: 0.8521666666666666\n",
            "iteration: 4, batch: 1300, training cost: 11.106495246742606, validation accuracy: 0.8544166666666667\n",
            "iteration: 4, batch: 1400, training cost: 11.699846825798769, validation accuracy: 0.8549166666666667\n",
            "iteration: 4, batch: 1500, training cost: 11.557168970929617, validation accuracy: 0.857\n",
            "iteration: 5, batch: 100, training cost: 11.746507270788504, validation accuracy: 0.85575\n",
            "iteration: 5, batch: 200, training cost: 12.25768932318198, validation accuracy: 0.8588333333333333\n",
            "iteration: 5, batch: 300, training cost: 12.153832166799754, validation accuracy: 0.8613333333333333\n",
            "iteration: 5, batch: 400, training cost: 12.474629187501264, validation accuracy: 0.8566666666666667\n",
            "iteration: 5, batch: 500, training cost: 12.950796945261738, validation accuracy: 0.8614166666666667\n",
            "iteration: 5, batch: 600, training cost: 13.172715183173073, validation accuracy: 0.8636666666666667\n",
            "iteration: 5, batch: 700, training cost: 13.388408717537954, validation accuracy: 0.8619166666666667\n",
            "iteration: 5, batch: 800, training cost: 13.652442989424788, validation accuracy: 0.8630833333333333\n",
            "iteration: 5, batch: 900, training cost: 13.795741220937293, validation accuracy: 0.8638333333333333\n",
            "iteration: 5, batch: 1000, training cost: 14.13556897609085, validation accuracy: 0.864\n",
            "iteration: 5, batch: 1100, training cost: 14.206055975987644, validation accuracy: 0.8649166666666667\n",
            "iteration: 5, batch: 1200, training cost: 14.699500615032424, validation accuracy: 0.8654166666666666\n",
            "iteration: 5, batch: 1300, training cost: 14.580513982996438, validation accuracy: 0.8666666666666667\n",
            "iteration: 5, batch: 1400, training cost: 15.182474990802138, validation accuracy: 0.869\n",
            "iteration: 5, batch: 1500, training cost: 15.095908084908151, validation accuracy: 0.8686666666666667\n",
            "Final Results: \n",
            "Training Accuracy: 0.8715625\n",
            "Validation Accuracy: 0.8686666666666667\n",
            "test accuracy: 0.8729\n"
          ]
        }
      ]
    },
    {
      "cell_type": "code",
      "source": [
        "plot_costs(costs_32_batch_norm)"
      ],
      "metadata": {
        "colab": {
          "base_uri": "https://localhost:8080/",
          "height": 564
        },
        "id": "UT2ldXbPVl0R",
        "outputId": "47f51f0a-0175-4732-b943-2d0044ff4db3"
      },
      "execution_count": null,
      "outputs": [
        {
          "output_type": "display_data",
          "data": {
            "text/plain": [
              "<Figure size 1000x600 with 1 Axes>"
            ],
            "image/png": "[encoded data removed]"
          },
          "metadata": {}
        }
      ]
    },
    {
      "cell_type": "markdown",
      "source": [
        "No batch, Yes L2"
      ],
      "metadata": {
        "id": "X1hGjKTGZPLe"
      }
    },
    {
      "cell_type": "code",
      "source": [
        "costs_32_no_batch_yes_l2 = main(batch_size = 32)"
      ],
      "metadata": {
        "colab": {
          "base_uri": "https://localhost:8080/"
        },
        "id": "Ey-t57d2ZRWa",
        "outputId": "9a7fd292-acbc-41d6-dce0-d15bdd96663d"
      },
      "execution_count": null,
      "outputs": [
        {
          "output_type": "stream",
          "name": "stdout",
          "text": [
            "iteration: 0, batch: 100, training cost: 4.759987083035929, validation accuracy: 0.115\n",
            "iteration: 0, batch: 200, training cost: 4.682514074747821, validation accuracy: 0.12208333333333334\n",
            "iteration: 0, batch: 300, training cost: 4.639517333803714, validation accuracy: 0.12841666666666668\n",
            "iteration: 0, batch: 400, training cost: 4.672105545570419, validation accuracy: 0.13616666666666666\n",
            "iteration: 0, batch: 500, training cost: 4.649029900648872, validation accuracy: 0.12683333333333333\n",
            "iteration: 0, batch: 600, training cost: 4.668336639305571, validation accuracy: 0.14433333333333334\n",
            "iteration: 0, batch: 700, training cost: 4.627249068926007, validation accuracy: 0.14416666666666667\n",
            "iteration: 0, batch: 800, training cost: 4.622423648412656, validation accuracy: 0.15091666666666667\n",
            "iteration: 0, batch: 900, training cost: 4.7937363395087775, validation accuracy: 0.14933333333333335\n",
            "iteration: 0, batch: 1000, training cost: 4.587621232726724, validation accuracy: 0.152\n",
            "iteration: 0, batch: 1100, training cost: 4.709224273866956, validation accuracy: 0.15408333333333332\n",
            "iteration: 0, batch: 1200, training cost: 4.418492620470675, validation accuracy: 0.14741666666666667\n",
            "iteration: 0, batch: 1300, training cost: 4.455267483360885, validation accuracy: 0.16341666666666665\n",
            "iteration: 0, batch: 1400, training cost: 4.440696575301958, validation accuracy: 0.1595\n",
            "iteration: 0, batch: 1500, training cost: 4.524363121045205, validation accuracy: 0.18375\n",
            "iteration: 1, batch: 100, training cost: 4.469922890530578, validation accuracy: 0.188\n",
            "iteration: 1, batch: 200, training cost: 4.388172945750431, validation accuracy: 0.20866666666666667\n",
            "iteration: 1, batch: 300, training cost: 4.199429086769388, validation accuracy: 0.232\n",
            "iteration: 1, batch: 400, training cost: 4.348006170742578, validation accuracy: 0.25433333333333336\n",
            "iteration: 1, batch: 500, training cost: 4.362269188506628, validation accuracy: 0.26016666666666666\n",
            "iteration: 1, batch: 600, training cost: 4.216166849348849, validation accuracy: 0.2926666666666667\n",
            "iteration: 1, batch: 700, training cost: 4.146787983924166, validation accuracy: 0.30491666666666667\n",
            "iteration: 1, batch: 800, training cost: 4.297949981844164, validation accuracy: 0.30975\n",
            "iteration: 1, batch: 900, training cost: 4.289189449078535, validation accuracy: 0.32233333333333336\n",
            "iteration: 1, batch: 1000, training cost: 4.110154904851379, validation accuracy: 0.3365\n",
            "iteration: 1, batch: 1100, training cost: 4.28137334783441, validation accuracy: 0.34408333333333335\n",
            "iteration: 1, batch: 1200, training cost: 3.983343430981596, validation accuracy: 0.358\n",
            "iteration: 1, batch: 1300, training cost: 4.213977075333315, validation accuracy: 0.37766666666666665\n",
            "iteration: 1, batch: 1400, training cost: 3.7810830916803977, validation accuracy: 0.3740833333333333\n",
            "iteration: 1, batch: 1500, training cost: 3.9506262892060273, validation accuracy: 0.4021666666666667\n",
            "iteration: 2, batch: 100, training cost: 4.122231114189886, validation accuracy: 0.40408333333333335\n",
            "iteration: 2, batch: 200, training cost: 4.014994477747126, validation accuracy: 0.41633333333333333\n",
            "iteration: 2, batch: 300, training cost: 3.7670136631538678, validation accuracy: 0.42325\n",
            "iteration: 2, batch: 400, training cost: 3.8119205471514563, validation accuracy: 0.43733333333333335\n",
            "iteration: 2, batch: 500, training cost: 3.850568012453353, validation accuracy: 0.4395833333333333\n",
            "iteration: 2, batch: 600, training cost: 3.799113161736933, validation accuracy: 0.4419166666666667\n",
            "iteration: 2, batch: 700, training cost: 3.5816217278535962, validation accuracy: 0.45525\n",
            "iteration: 2, batch: 800, training cost: 4.0722845587098435, validation accuracy: 0.4545\n",
            "iteration: 2, batch: 900, training cost: 3.746632959984439, validation accuracy: 0.46308333333333335\n",
            "iteration: 2, batch: 1000, training cost: 3.514805223180203, validation accuracy: 0.47191666666666665\n",
            "iteration: 2, batch: 1100, training cost: 3.8547792747914444, validation accuracy: 0.4681666666666667\n",
            "iteration: 2, batch: 1200, training cost: 3.5964811050636425, validation accuracy: 0.4856666666666667\n",
            "iteration: 2, batch: 1300, training cost: 4.037705963465681, validation accuracy: 0.4960833333333333\n",
            "iteration: 2, batch: 1400, training cost: 3.3322754405310038, validation accuracy: 0.49233333333333335\n",
            "iteration: 2, batch: 1500, training cost: 3.5431421988126717, validation accuracy: 0.5124166666666666\n",
            "iteration: 3, batch: 100, training cost: 3.703426658442001, validation accuracy: 0.5060833333333333\n",
            "iteration: 3, batch: 200, training cost: 3.720627406888133, validation accuracy: 0.52775\n",
            "iteration: 3, batch: 300, training cost: 3.37593614536297, validation accuracy: 0.523\n",
            "iteration: 3, batch: 400, training cost: 3.4295357831058424, validation accuracy: 0.5363333333333333\n",
            "iteration: 3, batch: 500, training cost: 3.503068431144902, validation accuracy: 0.537\n",
            "iteration: 3, batch: 600, training cost: 3.488423347250483, validation accuracy: 0.5415833333333333\n",
            "iteration: 3, batch: 700, training cost: 3.2281903383332136, validation accuracy: 0.5563333333333333\n",
            "iteration: 3, batch: 800, training cost: 3.8465918899857696, validation accuracy: 0.5578333333333333\n",
            "iteration: 3, batch: 900, training cost: 3.2749887883416218, validation accuracy: 0.5645833333333333\n",
            "iteration: 3, batch: 1000, training cost: 3.153829629590999, validation accuracy: 0.563\n",
            "iteration: 3, batch: 1100, training cost: 3.47732117492118, validation accuracy: 0.5645833333333333\n",
            "iteration: 3, batch: 1200, training cost: 3.4039023552404153, validation accuracy: 0.582\n",
            "iteration: 3, batch: 1300, training cost: 3.7943845600691644, validation accuracy: 0.57825\n",
            "iteration: 3, batch: 1400, training cost: 3.0488028428386116, validation accuracy: 0.5715833333333333\n",
            "iteration: 3, batch: 1500, training cost: 3.2211420440648193, validation accuracy: 0.5949166666666666\n",
            "iteration: 4, batch: 100, training cost: 3.4187610700019593, validation accuracy: 0.5679166666666666\n",
            "iteration: 4, batch: 200, training cost: 3.528164337101851, validation accuracy: 0.6015\n",
            "iteration: 4, batch: 300, training cost: 3.1437187746183475, validation accuracy: 0.5985\n",
            "iteration: 4, batch: 400, training cost: 3.248525650176938, validation accuracy: 0.6079166666666667\n",
            "iteration: 4, batch: 500, training cost: 3.2474585041738555, validation accuracy: 0.60725\n",
            "iteration: 4, batch: 600, training cost: 3.229062150099905, validation accuracy: 0.613\n",
            "iteration: 4, batch: 700, training cost: 2.926382766832996, validation accuracy: 0.6169166666666667\n",
            "iteration: 4, batch: 800, training cost: 3.614169932267216, validation accuracy: 0.616\n",
            "iteration: 4, batch: 900, training cost: 2.986465854775879, validation accuracy: 0.6211666666666666\n",
            "iteration: 4, batch: 1000, training cost: 3.002943659950325, validation accuracy: 0.6159166666666667\n",
            "iteration: 4, batch: 1100, training cost: 3.28432129916824, validation accuracy: 0.6146666666666667\n",
            "iteration: 4, batch: 1200, training cost: 3.2779788525265414, validation accuracy: 0.6290833333333333\n",
            "iteration: 4, batch: 1300, training cost: 3.5416701476853736, validation accuracy: 0.6279166666666667\n",
            "iteration: 4, batch: 1400, training cost: 2.8878594109035114, validation accuracy: 0.6230833333333333\n",
            "iteration: 4, batch: 1500, training cost: 3.0079517635043653, validation accuracy: 0.6376666666666667\n",
            "iteration: 5, batch: 100, training cost: 3.2328113592169894, validation accuracy: 0.62025\n",
            "iteration: 5, batch: 200, training cost: 3.2561198909958824, validation accuracy: 0.6475833333333333\n",
            "iteration: 5, batch: 300, training cost: 2.92153370267419, validation accuracy: 0.6449166666666667\n",
            "iteration: 5, batch: 400, training cost: 3.0929624368970687, validation accuracy: 0.6525\n",
            "iteration: 5, batch: 500, training cost: 3.0570920728092865, validation accuracy: 0.6565833333333333\n",
            "iteration: 5, batch: 600, training cost: 3.0549521729471785, validation accuracy: 0.6603333333333333\n",
            "iteration: 5, batch: 700, training cost: 2.81758677840837, validation accuracy: 0.66125\n",
            "iteration: 5, batch: 800, training cost: 3.4547766061411083, validation accuracy: 0.6601666666666667\n",
            "iteration: 5, batch: 900, training cost: 2.7687345607235034, validation accuracy: 0.6669166666666667\n",
            "iteration: 5, batch: 1000, training cost: 2.8350879478207136, validation accuracy: 0.6559166666666667\n",
            "iteration: 5, batch: 1100, training cost: 3.0380550340689716, validation accuracy: 0.6650833333333334\n",
            "iteration: 5, batch: 1200, training cost: 3.1212815276089647, validation accuracy: 0.6721666666666667\n",
            "iteration: 5, batch: 1300, training cost: 3.2625902207039674, validation accuracy: 0.6750833333333334\n",
            "iteration: 5, batch: 1400, training cost: 2.8010745080806054, validation accuracy: 0.6776666666666666\n",
            "iteration: 5, batch: 1500, training cost: 2.8681113458056586, validation accuracy: 0.6830833333333334\n",
            "iteration: 6, batch: 100, training cost: 3.0100345752560687, validation accuracy: 0.67425\n",
            "iteration: 6, batch: 200, training cost: 3.0553995669169054, validation accuracy: 0.69375\n",
            "iteration: 6, batch: 300, training cost: 2.641438789303211, validation accuracy: 0.6883333333333334\n",
            "iteration: 6, batch: 400, training cost: 2.8678456754598223, validation accuracy: 0.6974166666666667\n",
            "iteration: 6, batch: 500, training cost: 2.8735817596636366, validation accuracy: 0.6955\n",
            "iteration: 6, batch: 600, training cost: 2.8868910748238754, validation accuracy: 0.7029166666666666\n",
            "iteration: 6, batch: 700, training cost: 2.6798057470986056, validation accuracy: 0.6970833333333334\n",
            "iteration: 6, batch: 800, training cost: 3.2746198524081507, validation accuracy: 0.7034166666666667\n",
            "iteration: 6, batch: 900, training cost: 2.5626759041491347, validation accuracy: 0.7090833333333333\n",
            "iteration: 6, batch: 1000, training cost: 2.664581706171294, validation accuracy: 0.6974166666666667\n",
            "iteration: 6, batch: 1100, training cost: 2.8662148483007104, validation accuracy: 0.7119166666666666\n",
            "iteration: 6, batch: 1200, training cost: 2.9173519567583304, validation accuracy: 0.71225\n",
            "iteration: 6, batch: 1300, training cost: 2.9476940365178166, validation accuracy: 0.7121666666666666\n",
            "iteration: 6, batch: 1400, training cost: 2.6728527278907688, validation accuracy: 0.7138333333333333\n",
            "iteration: 6, batch: 1500, training cost: 2.7564956745135754, validation accuracy: 0.723\n",
            "iteration: 7, batch: 100, training cost: 2.792931875959976, validation accuracy: 0.7080833333333333\n",
            "iteration: 7, batch: 200, training cost: 2.913257765724771, validation accuracy: 0.7318333333333333\n",
            "iteration: 7, batch: 300, training cost: 2.455178526613153, validation accuracy: 0.72375\n",
            "iteration: 7, batch: 400, training cost: 2.6702475364808924, validation accuracy: 0.73\n",
            "iteration: 7, batch: 500, training cost: 2.736252294322879, validation accuracy: 0.73225\n",
            "iteration: 7, batch: 600, training cost: 2.762785766423878, validation accuracy: 0.7354166666666667\n",
            "iteration: 7, batch: 700, training cost: 2.5107526947910324, validation accuracy: 0.7314166666666667\n",
            "iteration: 7, batch: 800, training cost: 3.017655261163444, validation accuracy: 0.7364166666666667\n",
            "iteration: 7, batch: 900, training cost: 2.4059644367438886, validation accuracy: 0.7376666666666667\n",
            "iteration: 7, batch: 1000, training cost: 2.5493695111396866, validation accuracy: 0.7250833333333333\n",
            "iteration: 7, batch: 1100, training cost: 2.746315756108967, validation accuracy: 0.7411666666666666\n",
            "iteration: 7, batch: 1200, training cost: 2.7262540468432404, validation accuracy: 0.7358333333333333\n",
            "iteration: 7, batch: 1300, training cost: 2.736512356957853, validation accuracy: 0.7415833333333334\n",
            "iteration: 7, batch: 1400, training cost: 2.5216754270465214, validation accuracy: 0.7415\n",
            "iteration: 7, batch: 1500, training cost: 2.6966697540412508, validation accuracy: 0.74725\n",
            "iteration: 8, batch: 100, training cost: 2.672495416396057, validation accuracy: 0.7321666666666666\n",
            "iteration: 8, batch: 200, training cost: 2.7795366042709544, validation accuracy: 0.7560833333333333\n",
            "iteration: 8, batch: 300, training cost: 2.3330409123852105, validation accuracy: 0.7523333333333333\n",
            "iteration: 8, batch: 400, training cost: 2.5516292695062335, validation accuracy: 0.7550833333333333\n",
            "iteration: 8, batch: 500, training cost: 2.632800070363388, validation accuracy: 0.7551666666666667\n",
            "iteration: 8, batch: 600, training cost: 2.621887059261131, validation accuracy: 0.7588333333333334\n",
            "iteration: 8, batch: 700, training cost: 2.361874883346786, validation accuracy: 0.7560833333333333\n",
            "iteration: 8, batch: 800, training cost: 2.8408508278402858, validation accuracy: 0.7651666666666667\n",
            "iteration: 8, batch: 900, training cost: 2.281001726203856, validation accuracy: 0.7635833333333333\n",
            "iteration: 8, batch: 1000, training cost: 2.423058788039775, validation accuracy: 0.7505833333333334\n",
            "iteration: 8, batch: 1100, training cost: 2.61369254451908, validation accuracy: 0.766\n",
            "iteration: 8, batch: 1200, training cost: 2.5810481929852083, validation accuracy: 0.7579166666666667\n",
            "iteration: 8, batch: 1300, training cost: 2.5788234126767926, validation accuracy: 0.767\n",
            "iteration: 8, batch: 1400, training cost: 2.380171056313455, validation accuracy: 0.76775\n",
            "iteration: 8, batch: 1500, training cost: 2.6083474256528927, validation accuracy: 0.7715833333333333\n",
            "iteration: 9, batch: 100, training cost: 2.5708353486307134, validation accuracy: 0.75375\n",
            "iteration: 9, batch: 200, training cost: 2.668704536898212, validation accuracy: 0.7803333333333333\n",
            "iteration: 9, batch: 300, training cost: 2.2609525475489294, validation accuracy: 0.7790833333333333\n",
            "iteration: 9, batch: 400, training cost: 2.453332538272333, validation accuracy: 0.7825\n",
            "iteration: 9, batch: 500, training cost: 2.577224805280941, validation accuracy: 0.7793333333333333\n",
            "iteration: 9, batch: 600, training cost: 2.486746809772103, validation accuracy: 0.7831666666666667\n",
            "iteration: 9, batch: 700, training cost: 2.2643700720966504, validation accuracy: 0.7841666666666667\n",
            "iteration: 9, batch: 800, training cost: 2.702986676395334, validation accuracy: 0.7885\n",
            "iteration: 9, batch: 900, training cost: 2.1394680306264986, validation accuracy: 0.7918333333333333\n",
            "iteration: 9, batch: 1000, training cost: 2.3194878652096915, validation accuracy: 0.7798333333333334\n",
            "iteration: 9, batch: 1100, training cost: 2.465561825287092, validation accuracy: 0.7923333333333333\n",
            "iteration: 9, batch: 1200, training cost: 2.417987133473468, validation accuracy: 0.7870833333333334\n",
            "iteration: 9, batch: 1300, training cost: 2.435969560434157, validation accuracy: 0.79275\n",
            "iteration: 9, batch: 1400, training cost: 2.2505288834760546, validation accuracy: 0.7940833333333334\n",
            "iteration: 9, batch: 1500, training cost: 2.4752165396011954, validation accuracy: 0.7951666666666667\n",
            "iteration: 10, batch: 100, training cost: 2.4576590302259933, validation accuracy: 0.7763333333333333\n",
            "iteration: 10, batch: 200, training cost: 2.59233385999205, validation accuracy: 0.8055833333333333\n",
            "iteration: 10, batch: 300, training cost: 2.20023215418969, validation accuracy: 0.8075\n",
            "iteration: 10, batch: 400, training cost: 2.3569611004006994, validation accuracy: 0.807\n",
            "iteration: 10, batch: 500, training cost: 2.5145008762907533, validation accuracy: 0.80625\n",
            "iteration: 10, batch: 600, training cost: 2.359528581823599, validation accuracy: 0.8114166666666667\n",
            "iteration: 10, batch: 700, training cost: 2.1475226214024024, validation accuracy: 0.8076666666666666\n",
            "iteration: 10, batch: 800, training cost: 2.5611465278467707, validation accuracy: 0.8141666666666667\n",
            "iteration: 10, batch: 900, training cost: 1.9872443272795555, validation accuracy: 0.8155\n",
            "iteration: 10, batch: 1000, training cost: 2.2350748954262256, validation accuracy: 0.8080833333333334\n",
            "iteration: 10, batch: 1100, training cost: 2.3281511482219814, validation accuracy: 0.8159166666666666\n",
            "iteration: 10, batch: 1200, training cost: 2.2677808989553156, validation accuracy: 0.8138333333333333\n",
            "iteration: 10, batch: 1300, training cost: 2.2762561901153417, validation accuracy: 0.8165833333333333\n",
            "iteration: 10, batch: 1400, training cost: 2.134264145000531, validation accuracy: 0.8190833333333334\n",
            "iteration: 10, batch: 1500, training cost: 2.3114263875552274, validation accuracy: 0.8186666666666667\n",
            "Final Results: \n",
            "Training Accuracy: 0.817125\n",
            "Validation Accuracy: 0.8186666666666667\n",
            "test accuracy: 0.8192\n"
          ]
        }
      ]
    },
    {
      "cell_type": "code",
      "source": [
        "plot_costs(costs_32_no_batch_yes_l2)"
      ],
      "metadata": {
        "colab": {
          "base_uri": "https://localhost:8080/",
          "height": 564
        },
        "id": "8hf81t2baQZa",
        "outputId": "5069a37e-f3c3-4829-8113-fdc3cb1a97a5"
      },
      "execution_count": null,
      "outputs": [
        {
          "output_type": "display_data",
          "data": {
            "text/plain": [
              "<Figure size 1000x600 with 1 Axes>"
            ],
            "image/png": "[encoded data removed]"
          },
          "metadata": {}
        }
      ]
    },
    {
      "cell_type": "markdown",
      "source": [
        "yes batch norm & L2"
      ],
      "metadata": {
        "id": "ill84p5sEYj0"
      }
    },
    {
      "cell_type": "code",
      "source": [
        "costs_32_yes_batch_yes_l2 = main(batch_size = 32)"
      ],
      "metadata": {
        "colab": {
          "base_uri": "https://localhost:8080/"
        },
        "id": "zPdzJ3qtEbn9",
        "outputId": "3545dcff-4e3e-4385-b2c2-9f5f98a0d880"
      },
      "execution_count": null,
      "outputs": [
        {
          "output_type": "stream",
          "name": "stdout",
          "text": [
            "iteration: 0, batch: 100, training cost: 4.795406396365344, validation accuracy: 0.21733333333333332\n",
            "iteration: 0, batch: 200, training cost: 4.524625048873087, validation accuracy: 0.2525833333333333\n",
            "iteration: 0, batch: 300, training cost: 4.4798486154920125, validation accuracy: 0.27525\n",
            "iteration: 0, batch: 400, training cost: 4.586359103553151, validation accuracy: 0.28275\n",
            "iteration: 0, batch: 500, training cost: 4.652401298014423, validation accuracy: 0.3135\n",
            "iteration: 0, batch: 600, training cost: 4.402419387386487, validation accuracy: 0.32266666666666666\n",
            "iteration: 0, batch: 700, training cost: 4.18609870266717, validation accuracy: 0.3365\n",
            "iteration: 0, batch: 800, training cost: 4.319083187532709, validation accuracy: 0.35733333333333334\n",
            "iteration: 0, batch: 900, training cost: 4.151659321746315, validation accuracy: 0.37925\n",
            "iteration: 0, batch: 1000, training cost: 4.033278402855896, validation accuracy: 0.4033333333333333\n",
            "iteration: 0, batch: 1100, training cost: 4.344889561871977, validation accuracy: 0.42341666666666666\n",
            "iteration: 0, batch: 1200, training cost: 4.122142582272437, validation accuracy: 0.45916666666666667\n",
            "iteration: 0, batch: 1300, training cost: 4.025103595179699, validation accuracy: 0.494\n",
            "iteration: 0, batch: 1400, training cost: 3.8679690844735175, validation accuracy: 0.5181666666666667\n",
            "iteration: 0, batch: 1500, training cost: 3.8524105201350123, validation accuracy: 0.5345\n",
            "iteration: 1, batch: 100, training cost: 4.042954347947687, validation accuracy: 0.5585\n",
            "iteration: 1, batch: 200, training cost: 3.955595866136581, validation accuracy: 0.5683333333333334\n",
            "iteration: 1, batch: 300, training cost: 3.7591824896429356, validation accuracy: 0.5875\n",
            "iteration: 1, batch: 400, training cost: 3.954786738720175, validation accuracy: 0.6003333333333334\n",
            "iteration: 1, batch: 500, training cost: 3.690453706796303, validation accuracy: 0.6149166666666667\n",
            "iteration: 1, batch: 600, training cost: 3.7495240548637634, validation accuracy: 0.6375833333333333\n",
            "iteration: 1, batch: 700, training cost: 3.7396299836063807, validation accuracy: 0.6385833333333333\n",
            "iteration: 1, batch: 800, training cost: 3.921870856942129, validation accuracy: 0.65525\n",
            "iteration: 1, batch: 900, training cost: 3.9006408566316018, validation accuracy: 0.66775\n",
            "iteration: 1, batch: 1000, training cost: 3.700886845074546, validation accuracy: 0.6788333333333333\n",
            "iteration: 1, batch: 1100, training cost: 3.8577948049020643, validation accuracy: 0.6878333333333333\n",
            "iteration: 1, batch: 1200, training cost: 3.7866851256054495, validation accuracy: 0.696\n",
            "iteration: 1, batch: 1300, training cost: 3.724301184363866, validation accuracy: 0.7010833333333333\n",
            "iteration: 1, batch: 1400, training cost: 3.623350559280568, validation accuracy: 0.7066666666666667\n",
            "iteration: 1, batch: 1500, training cost: 3.853825662418502, validation accuracy: 0.7159166666666666\n",
            "iteration: 2, batch: 100, training cost: 3.7499349607477437, validation accuracy: 0.7243333333333334\n",
            "iteration: 2, batch: 200, training cost: 3.7986510454371865, validation accuracy: 0.72875\n",
            "iteration: 2, batch: 300, training cost: 3.6669574005007455, validation accuracy: 0.7371666666666666\n",
            "iteration: 2, batch: 400, training cost: 3.652877965316006, validation accuracy: 0.7448333333333333\n",
            "iteration: 2, batch: 500, training cost: 3.610486749693406, validation accuracy: 0.7461666666666666\n",
            "iteration: 2, batch: 600, training cost: 3.777286916160514, validation accuracy: 0.7555833333333334\n",
            "iteration: 2, batch: 700, training cost: 3.84188158193759, validation accuracy: 0.7576666666666667\n",
            "iteration: 2, batch: 800, training cost: 4.048913031992201, validation accuracy: 0.7684166666666666\n",
            "iteration: 2, batch: 900, training cost: 3.930267383861474, validation accuracy: 0.77425\n",
            "iteration: 2, batch: 1000, training cost: 3.7491773259240393, validation accuracy: 0.7839166666666667\n",
            "iteration: 2, batch: 1100, training cost: 3.999712631507716, validation accuracy: 0.78\n",
            "iteration: 2, batch: 1200, training cost: 3.886006358850743, validation accuracy: 0.7878333333333334\n",
            "iteration: 2, batch: 1300, training cost: 3.8636595303907075, validation accuracy: 0.7858333333333334\n",
            "iteration: 2, batch: 1400, training cost: 3.95735810401484, validation accuracy: 0.7849166666666667\n",
            "iteration: 2, batch: 1500, training cost: 4.099443344633736, validation accuracy: 0.7920833333333334\n",
            "iteration: 3, batch: 100, training cost: 4.060184701791737, validation accuracy: 0.7990833333333334\n",
            "iteration: 3, batch: 200, training cost: 4.107498001038965, validation accuracy: 0.8035\n",
            "iteration: 3, batch: 300, training cost: 4.0332601603296565, validation accuracy: 0.8016666666666666\n",
            "iteration: 3, batch: 400, training cost: 4.001610125631455, validation accuracy: 0.81175\n",
            "iteration: 3, batch: 500, training cost: 4.054663312768335, validation accuracy: 0.8065833333333333\n",
            "iteration: 3, batch: 600, training cost: 4.155854290828297, validation accuracy: 0.8125833333333333\n",
            "iteration: 3, batch: 700, training cost: 4.3128052160794255, validation accuracy: 0.8175833333333333\n",
            "iteration: 3, batch: 800, training cost: 4.533725913211503, validation accuracy: 0.82525\n",
            "iteration: 3, batch: 900, training cost: 4.423726925640043, validation accuracy: 0.8318333333333333\n",
            "iteration: 3, batch: 1000, training cost: 4.3209240269675195, validation accuracy: 0.8400833333333333\n",
            "iteration: 3, batch: 1100, training cost: 4.557369529631405, validation accuracy: 0.8270833333333333\n",
            "iteration: 3, batch: 1200, training cost: 4.4239723039935805, validation accuracy: 0.8358333333333333\n",
            "iteration: 3, batch: 1300, training cost: 4.397656271926438, validation accuracy: 0.8346666666666667\n",
            "iteration: 3, batch: 1400, training cost: 4.550476612996174, validation accuracy: 0.8273333333333334\n",
            "iteration: 3, batch: 1500, training cost: 4.676228565691981, validation accuracy: 0.8388333333333333\n",
            "iteration: 4, batch: 100, training cost: 4.679356295918742, validation accuracy: 0.8435833333333334\n",
            "iteration: 4, batch: 200, training cost: 4.68463639014519, validation accuracy: 0.84675\n",
            "iteration: 4, batch: 300, training cost: 4.609368635192089, validation accuracy: 0.8475833333333334\n",
            "iteration: 4, batch: 400, training cost: 4.677272727099645, validation accuracy: 0.8531666666666666\n",
            "iteration: 4, batch: 500, training cost: 4.725487616413791, validation accuracy: 0.8540833333333333\n",
            "iteration: 4, batch: 600, training cost: 4.787991071638993, validation accuracy: 0.8605\n",
            "iteration: 4, batch: 700, training cost: 5.018065272173935, validation accuracy: 0.8605\n",
            "iteration: 4, batch: 800, training cost: 5.198218721551352, validation accuracy: 0.8659166666666667\n",
            "iteration: 4, batch: 900, training cost: 5.094706567111265, validation accuracy: 0.8718333333333333\n",
            "iteration: 4, batch: 1000, training cost: 5.132260801122247, validation accuracy: 0.8715\n",
            "iteration: 4, batch: 1100, training cost: 5.310806175629841, validation accuracy: 0.87475\n",
            "iteration: 4, batch: 1200, training cost: 5.220928325139772, validation accuracy: 0.8743333333333333\n",
            "iteration: 4, batch: 1300, training cost: 5.178972407219024, validation accuracy: 0.8714166666666666\n",
            "iteration: 4, batch: 1400, training cost: 5.341453848888279, validation accuracy: 0.8775833333333334\n",
            "iteration: 4, batch: 1500, training cost: 5.400632193948162, validation accuracy: 0.8779166666666667\n",
            "iteration: 5, batch: 100, training cost: 5.419318782408607, validation accuracy: 0.88175\n",
            "iteration: 5, batch: 200, training cost: 5.517267347040347, validation accuracy: 0.88275\n",
            "iteration: 5, batch: 300, training cost: 5.490478842456794, validation accuracy: 0.88375\n",
            "iteration: 5, batch: 400, training cost: 5.602678614512839, validation accuracy: 0.8809166666666667\n",
            "iteration: 5, batch: 500, training cost: 5.665714389651399, validation accuracy: 0.8834166666666666\n",
            "iteration: 5, batch: 600, training cost: 5.728233401976845, validation accuracy: 0.8895\n",
            "iteration: 5, batch: 700, training cost: 5.993301141424962, validation accuracy: 0.8865\n",
            "iteration: 5, batch: 800, training cost: 6.161415475178342, validation accuracy: 0.8874166666666666\n",
            "iteration: 5, batch: 900, training cost: 6.061707745944703, validation accuracy: 0.8885833333333333\n",
            "iteration: 5, batch: 1000, training cost: 6.149207608564619, validation accuracy: 0.8856666666666667\n",
            "iteration: 5, batch: 1100, training cost: 6.3520725242721054, validation accuracy: 0.8909166666666667\n",
            "iteration: 5, batch: 1200, training cost: 6.281186930719622, validation accuracy: 0.8881666666666667\n",
            "iteration: 5, batch: 1300, training cost: 6.209531671442406, validation accuracy: 0.88625\n",
            "iteration: 5, batch: 1400, training cost: 6.38789438000356, validation accuracy: 0.8915833333333333\n",
            "iteration: 5, batch: 1500, training cost: 6.40811110454745, validation accuracy: 0.8881666666666667\n",
            "Final Results: \n",
            "Training Accuracy: 0.8902083333333334\n",
            "Validation Accuracy: 0.8881666666666667\n",
            "test accuracy: 0.8884\n"
          ]
        }
      ]
    },
    {
      "cell_type": "code",
      "source": [
        "plot_costs(costs_32_yes_batch_yes_l2)"
      ],
      "metadata": {
        "colab": {
          "base_uri": "https://localhost:8080/",
          "height": 564
        },
        "id": "rz5PMENGWiYk",
        "outputId": "b3dc8c1e-37f5-47c6-e30f-79ceef8de457"
      },
      "execution_count": null,
      "outputs": [
        {
          "output_type": "display_data",
          "data": {
            "text/plain": [
              "<Figure size 1000x600 with 1 Axes>"
            ],
            "image/png": "[encoded data removed]"
          },
          "metadata": {}
        }
      ]
    }
  ]
}